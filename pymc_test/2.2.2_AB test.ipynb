{
 "cells": [
  {
   "cell_type": "code",
   "execution_count": 28,
   "metadata": {},
   "outputs": [
    {
     "name": "stdout",
     "output_type": "stream",
     "text": [
      "[False False False ..., False False False]\n",
      "64\n"
     ]
    }
   ],
   "source": [
    "import pymc as pm\n",
    "\n",
    "p = pm.Uniform(\"p\", lower=0, upper=1)\n",
    "\n",
    "p_true = 0.05\n",
    "N = 1500\n",
    "\n",
    "occurrences = pm.rbernoulli(p_true, N)\n",
    "\n",
    "print(occurrences)\n",
    "print(occurrences.sum())"
   ]
  },
  {
   "cell_type": "code",
   "execution_count": 29,
   "metadata": {},
   "outputs": [
    {
     "name": "stdout",
     "output_type": "stream",
     "text": [
      "What is the observed frequency in Group A?  0.0426666666667\n",
      "Does the observed frequency equal the true frequency? False\n"
     ]
    }
   ],
   "source": [
    "print(\"What is the observed frequency in Group A? \", occurrences.mean())\n",
    "print(\"Does the observed frequency equal the true frequency?\", (occurrences.mean()) == p_true)"
   ]
  },
  {
   "cell_type": "code",
   "execution_count": 30,
   "metadata": {},
   "outputs": [
    {
     "name": "stdout",
     "output_type": "stream",
     "text": [
      " [-----------------100%-----------------] 20000 of 20000 complete in 1.6 sec"
     ]
    }
   ],
   "source": [
    "obs = pm.Bernoulli(\"obs\", p, value=occurrences, observed=True)\n",
    "\n",
    "mcmc = pm.MCMC([p, obs])\n",
    "mcmc.sample(20000, 1000)"
   ]
  },
  {
   "cell_type": "code",
   "execution_count": 31,
   "metadata": {},
   "outputs": [
    {
     "data": {
      "text/plain": [
       "<matplotlib.legend.Legend at 0x1121acda0>"
      ]
     },
     "execution_count": 31,
     "metadata": {},
     "output_type": "execute_result"
    },
    {
     "data": {
      "image/png": "[encoded data removed]",
      "text/plain": [
       "<matplotlib.figure.Figure at 0x112191048>"
      ]
     },
     "metadata": {},
     "output_type": "display_data"
    }
   ],
   "source": [
    "from IPython.core.pylabtools import figsize\n",
    "from matplotlib import pyplot as plt\n",
    "%matplotlib inline\n",
    "import numpy as np\n",
    "\n",
    "\n",
    "figsize(12.5, 4)\n",
    "\n",
    "plt.vlines(p_true, 0, 90, linestyle=\"--\", label=\"true $p_A$ (unknown)\")\n",
    "plt.hist(mcmc.trace(\"p\")[:], bins=35, histtype=\"stepfilled\", normed=True)\n",
    "\n",
    "plt.title(\"Posterior distribution of $p_A$, the true effectiveness of site A\")\n",
    "plt.xlabel(\"Value of $p_A$\")\n",
    "plt.ylabel(\"Density\")\n",
    "plt.legend()"
   ]
  }
 ],
 "metadata": {
  "kernelspec": {
   "display_name": "Python 3",
   "language": "python",
   "name": "python3"
  },
  "language_info": {
   "codemirror_mode": {
    "name": "ipython",
    "version": 3
   },
   "file_extension": ".py",
   "mimetype": "text/x-python",
   "name": "python",
   "nbconvert_exporter": "python",
   "pygments_lexer": "ipython3",
   "version": "3.6.5"
  }
 },
 "nbformat": 4,
 "nbformat_minor": 2
}
