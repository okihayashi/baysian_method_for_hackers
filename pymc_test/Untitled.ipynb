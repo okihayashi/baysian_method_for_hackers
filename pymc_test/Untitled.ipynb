{
 "cells": [
  {
   "cell_type": "code",
   "execution_count": 11,
   "metadata": {},
   "outputs": [
    {
     "name": "stdout",
     "output_type": "stream",
     "text": [
      "Children of lambda_: \n",
      "{<pymc.distributions.new_dist_class.<locals>.new_class 'data_generater' at 0x10a92ac50>} \n",
      "\n",
      "Parents of data_generater: \n",
      "{'mu': <pymc.distributions.new_dist_class.<locals>.new_class 'poisson_parram' at 0x10a92abe0>} \n",
      "\n",
      "Children of data_generater: \n",
      "{<pymc.PyMCObjects.Deterministic '(data_generater_add_1)' at 0x10a92acf8>} \n",
      "\n"
     ]
    }
   ],
   "source": [
    "import pymc as pm\n",
    "\n",
    "lambda_ = pm.Exponential(\"poisson_parram\", 1)\n",
    "\n",
    "data_generater = pm.Poisson(\"data_generater\", lambda_)\n",
    "data_plus_one = data_generater + 1\n",
    "\n",
    "print(\"Children of lambda_: \")\n",
    "print(lambda_.children, \"\\n\")\n",
    "\n",
    "print(\"Parents of data_generater: \")\n",
    "print(data_generater.parents, \"\\n\")\n",
    "\n",
    "print(\"Children of data_generater: \")\n",
    "print(data_generater.children, \"\\n\")"
   ]
  },
  {
   "cell_type": "code",
   "execution_count": 12,
   "metadata": {},
   "outputs": [
    {
     "name": "stdout",
     "output_type": "stream",
     "text": [
      "lambda_.value =  0.47331786053969727\n",
      "data_generater.value =  0\n",
      "data_plus_one.value =  1\n"
     ]
    }
   ],
   "source": [
    "print(\"lambda_.value = \", lambda_.value)\n",
    "print(\"data_generater.value = \", data_generater.value)\n",
    "print(\"data_plus_one.value = \", data_plus_one.value)"
   ]
  },
  {
   "cell_type": "code",
   "execution_count": 17,
   "metadata": {},
   "outputs": [
    {
     "name": "stdout",
     "output_type": "stream",
     "text": [
      "Initialized values...\n",
      "lambda_1.value =  0.06945839826100902\n",
      "lambda_2.value =  0.18577687512080296\n",
      "tau.value =  6\n",
      "\n",
      "After calling random() on the variables...\n",
      "lambda_1.value =  0.9936315185194956\n",
      "lambda_2.value =  0.6179034551132322\n",
      "tau.value =  6\n"
     ]
    },
    {
     "data": {
      "text/plain": [
       "pymc.PyMCObjects.Deterministic"
      ]
     },
     "execution_count": 17,
     "metadata": {},
     "output_type": "execute_result"
    }
   ],
   "source": [
    "lambda_1 = pm.Exponential(\"lambda_1\", 1)\n",
    "lambda_2 = pm.Exponential(\"lambda_2\", 1)\n",
    "tau = pm.DiscreteUniform(\"tau\", lower=0, upper=10)\n",
    "\n",
    "print(\"Initialized values...\")\n",
    "print(\"lambda_1.value = \", lambda_1.value)\n",
    "print(\"lambda_2.value = \", lambda_2.value)\n",
    "print(\"tau.value = \", tau.value)\n",
    "\n",
    "lambda_1.random()\n",
    "lambda_2.random()\n",
    "tau.random()\n",
    "\n",
    "print()\n",
    "print(\"After calling random() on the variables...\")\n",
    "print(\"lambda_1.value = \", lambda_1.value)\n",
    "print(\"lambda_2.value = \", lambda_2.value)\n",
    "print(\"tau.value = \", tau.value)\n",
    "\n",
    "type(lambda_1 + lambda_2)"
   ]
  },
  {
   "cell_type": "code",
   "execution_count": 19,
   "metadata": {},
   "outputs": [
    {
     "data": {
      "text/plain": [
       "(0, 8)"
      ]
     },
     "execution_count": 19,
     "metadata": {},
     "output_type": "execute_result"
    },
    {
     "data": {
      "image/png": "[encoded data removed]",
      "text/plain": [
       "<matplotlib.figure.Figure at 0x10addb5f8>"
      ]
     },
     "metadata": {},
     "output_type": "display_data"
    }
   ],
   "source": [
    "from IPython.core.pylabtools import figsize\n",
    "from matplotlib import pyplot as plt\n",
    "%matplotlib inline\n",
    "import numpy as np\n",
    "figsize(12.5, 4)\n",
    "\n",
    "samples = [lambda_1.random() for i in range(20000)]\n",
    "plt.hist(samples, bins=70, normed=True, histtype=\"stepfilled\")\n",
    "plt.title(\"Prior distribution for $\\lambda_1$\")\n",
    "plt.xlabel(\"value\")\n",
    "plt.ylabel(\"Density\")\n",
    "plt.xlim(0, 8)"
   ]
  },
  {
   "cell_type": "code",
   "execution_count": 23,
   "metadata": {},
   "outputs": [
    {
     "name": "stdout",
     "output_type": "stream",
     "text": [
      "value:  [10  5]\n",
      "calling .random()\n",
      "value:  [10  5]\n"
     ]
    }
   ],
   "source": [
    "data = np.array([10, 5])\n",
    "fixed_variable = pm.Poisson(\"fxd\", 1, value=data, observed=True)\n",
    "print(\"value: \", fixed_variable.value)\n",
    "print(\"calling .random()\")\n",
    "\n",
    "fixed_variable.random() # make sure if the fixed_variable is really fixed or not \n",
    "print(\"value: \", fixed_variable.value)"
   ]
  },
  {
   "cell_type": "code",
   "execution_count": 24,
   "metadata": {},
   "outputs": [
    {
     "name": "stdout",
     "output_type": "stream",
     "text": [
      "[10 25 15 20 35]\n"
     ]
    }
   ],
   "source": [
    "data = np.array([10, 25, 15, 20, 35])\n",
    "obs = pm.Poisson(\"obs\", lambda_, value=data, observed=True)\n",
    "print(obs.value)"
   ]
  },
  {
   "cell_type": "code",
   "execution_count": null,
   "metadata": {},
   "outputs": [],
   "source": []
  }
 ],
 "metadata": {
  "kernelspec": {
   "display_name": "Python 3",
   "language": "python",
   "name": "python3"
  },
  "language_info": {
   "codemirror_mode": {
    "name": "ipython",
    "version": 3
   },
   "file_extension": ".py",
   "mimetype": "text/x-python",
   "name": "python",
   "nbconvert_exporter": "python",
   "pygments_lexer": "ipython3",
   "version": "3.6.5"
  }
 },
 "nbformat": 4,
 "nbformat_minor": 2
}
